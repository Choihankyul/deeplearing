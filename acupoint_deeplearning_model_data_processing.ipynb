{
  "nbformat": 4,
  "nbformat_minor": 0,
  "metadata": {
    "colab": {
      "name": " acupoint_deeplearning_model_data_processing.ipynb",
      "private_outputs": true,
      "provenance": [],
      "collapsed_sections": [],
      "machine_shape": "hm",
      "authorship_tag": "ABX9TyPdYZNKQGvgsIbMbHs7s8MT",
      "include_colab_link": true
    },
    "kernelspec": {
      "name": "python3",
      "display_name": "Python 3"
    },
    "language_info": {
      "name": "python"
    },
    "accelerator": "GPU"
  },
  "cells": [
    {
      "cell_type": "markdown",
      "metadata": {
        "id": "view-in-github",
        "colab_type": "text"
      },
      "source": [
        "<a href=\"https://colab.research.google.com/github/Choihankyul/deeplearing/blob/main/acupoint_deeplearning_model_data_processing.ipynb\" target=\"_parent\"><img src=\"https://colab.research.google.com/assets/colab-badge.svg\" alt=\"Open In Colab\"/></a>"
      ]
    },
    {
      "cell_type": "code",
      "execution_count": null,
      "metadata": {
        "id": "4HzN9y78BoTZ"
      },
      "outputs": [],
      "source": [
        "from google.colab import drive\n",
        "drive.mount('/content/drive')"
      ]
    },
    {
      "cell_type": "markdown",
      "source": [
        "# kaggle Face Landmark Detection 참고"
      ],
      "metadata": {
        "id": "-KjkDreQCEQq"
      }
    },
    {
      "cell_type": "code",
      "source": [
        "import pandas as  pd\n",
        "import numpy as np\n",
        "import matplotlib.pyplot as plt\n",
        "from sklearn.model_selection import train_test_split\n",
        "import tensorflow as tf\n",
        "import tensorflow.keras\n",
        "import json\n",
        "import cv2\n",
        "import os"
      ],
      "metadata": {
        "id": "ROYEsnhECH9O"
      },
      "execution_count": null,
      "outputs": []
    },
    {
      "cell_type": "code",
      "source": [
        "# ## 데이터 가져오기\n",
        "# %cd /content/drive/MyDrive/deeplearning_study/deeplearing\n",
        "# !unzip -qq \"/content/drive/MyDrive/deeplearning_study/deeplearing/img_json.zip\""
      ],
      "metadata": {
        "id": "Y7Vefb75Ce5X"
      },
      "execution_count": null,
      "outputs": []
    },
    {
      "cell_type": "code",
      "source": [
        "## img_json 파일에 있는 jpg,json 파일 이름 가져오기\n",
        "csv_file = os.listdir('/content/drive/MyDrive/deeplearning_study/deeplearing/img_json')\n",
        "\n",
        "# csv_file에서 json만 가져오기\n",
        "json_list = []\n",
        "for i in csv_file:\n",
        "    file_form=i.split('.')[1]\n",
        "    if file_form == 'json':\n",
        "        json_list.append(i)\n",
        "\n",
        "len(json_list)"
      ],
      "metadata": {
        "id": "0qaKxIFQE3_j"
      },
      "execution_count": null,
      "outputs": []
    },
    {
      "cell_type": "code",
      "source": [
        "# json 파일로 불러오기\n",
        "with open('/content/drive/MyDrive/deeplearning_study/deeplearing/img_json/100_json.json') as json_file:\n",
        "  print(type(json_file))"
      ],
      "metadata": {
        "id": "rlVzioywEDpw"
      },
      "execution_count": null,
      "outputs": []
    },
    {
      "cell_type": "code",
      "source": [
        "# 데이터 프레임으로 좌표값 저장\n",
        "for j in json_list:\n",
        "  with open(f'/content/drive/MyDrive/deeplearning_study/deeplearing/img_json/{j}','r' ,encoding='utf-8-sig') as json_file:\n",
        "    json_data = json.load(json_file)\n",
        "  if j == json_list[0]:\n",
        "    df = pd.DataFrame(json_data).T\n",
        "  else:\n",
        "    new_df = pd.DataFrame(json_data).T\n",
        "    df = pd.concat([df,new_df])  "
      ],
      "metadata": {
        "id": "6NN3rJj8EMed"
      },
      "execution_count": null,
      "outputs": []
    },
    {
      "cell_type": "code",
      "source": [
        "new_df = df.copy()"
      ],
      "metadata": {
        "id": "PdHJsNHIcP96"
      },
      "execution_count": null,
      "outputs": []
    },
    {
      "cell_type": "code",
      "source": [
        "## right 가 x 값이 작음"
      ],
      "metadata": {
        "id": "v8UDZB6YYEe7"
      },
      "execution_count": null,
      "outputs": []
    },
    {
      "cell_type": "markdown",
      "source": [
        "## X,Y 좌표로 전환"
      ],
      "metadata": {
        "id": "ZLhlocN-bPpM"
      }
    },
    {
      "cell_type": "code",
      "source": [
        "# null 값이 없고 1개의 좌표만 있는 곳 : '인당','소료','태단'\n",
        "list_nnc1 = ['인당','소료','태단']\n",
        "onePoint_noNull_df = pd.DataFrame(index=new_df.index)\n",
        "for column in list_nnc1:\n",
        "  new_df[f'{column}_x'] = 0\n",
        "  new_df[f'{column}_y'] = 0\n",
        "\n",
        "# 빈리스트를 0,0 값으로 채우기\n",
        "  def fill_zero(x):\n",
        "    if not x:\n",
        "      x.append([0,0])\n",
        "    else:\n",
        "      x\n",
        "    return x\n",
        "  new_df[f'{column}'] = new_df[f'{column}'].apply(lambda x:fill_zero(x))\n",
        "\n",
        "# x,y 좌표 column 으로 저장\n",
        "  for i in range(86):\n",
        "    new_df[f'{column}_y'][i] = new_df[f'{column}'][i][0][1]\n",
        "    new_df[f'{column}_x'][i] = new_df[f'{column}'][i][0][0]\n",
        "\n",
        "# 새로운 데이터 프레임으로 저장\n",
        "  onePoint_noNull_df[f'{column}_x'] = new_df[f'{column}_x']\n",
        "  onePoint_noNull_df[f'{column}_y'] = new_df[f'{column}_y']\n",
        "\n",
        "  new_df.drop([f'{column}',f'{column}_x',f'{column}_y'],axis=1,inplace=True)"
      ],
      "metadata": {
        "id": "qT3BCzUvbPgQ"
      },
      "execution_count": null,
      "outputs": []
    },
    {
      "cell_type": "code",
      "source": [
        "## 훈련을 방해할것 같은 ['81.jpg','115.jpg','117.jpg','127.jpg','32.jpg'] drop 하기\n",
        "onePoint_noNull_df.drop(['81.jpg','115.jpg','117.jpg','127.jpg','32.jpg'],axis=0,inplace=True)"
      ],
      "metadata": {
        "id": "kOBXpTQLyph8"
      },
      "execution_count": null,
      "outputs": []
    },
    {
      "cell_type": "code",
      "source": [
        "# onePoint_noNull_df 확인\n",
        "onePoint_noNull_df.info()"
      ],
      "metadata": {
        "id": "mDAzA02BivuX"
      },
      "execution_count": null,
      "outputs": []
    },
    {
      "cell_type": "code",
      "source": [
        "# null 값이 있고 1개의 좌표만 있는 곳 : '수구' '승장'\n",
        "list_hnullc1 = ['수구', '승장']\n",
        "onePoint_haveNull_df = pd.DataFrame(index=new_df.index)\n",
        "for column in list_hnullc1:\n",
        "  new_df[f'{column}_x'] = 0\n",
        "  new_df[f'{column}_y'] = 0\n",
        "\n",
        "# 빈리스트를 0,0 값으로 채우기\n",
        "  def fill_zero(x):\n",
        "    if not x:\n",
        "      x.append([0,0])\n",
        "    else:\n",
        "      x\n",
        "    return x\n",
        "  new_df[f'{column}'] = new_df[f'{column}'].apply(lambda x:fill_zero(x))\n",
        "\n",
        "# x,y 좌표 column 으로 저장\n",
        "  for i in range(86):\n",
        "    new_df[f'{column}_y'][i] = new_df[f'{column}'][i][0][1]\n",
        "    new_df[f'{column}_x'][i] = new_df[f'{column}'][i][0][0]\n",
        "\n",
        "# 새로운 데이터 프레임으로 저장\n",
        "  onePoint_haveNull_df[f'{column}_x'] = new_df[f'{column}_x']\n",
        "  onePoint_haveNull_df[f'{column}_y'] = new_df[f'{column}_y']\n",
        "\n",
        "  new_df.drop([f'{column}',f'{column}_x',f'{column}_y'],axis=1,inplace=True)"
      ],
      "metadata": {
        "id": "ouwmyRFViDdq"
      },
      "execution_count": null,
      "outputs": []
    },
    {
      "cell_type": "code",
      "source": [
        "## 훈련을 방해할것 같은 ['81.jpg','115.jpg','117.jpg','127.jpg','32.jpg'] drop 하기\n",
        "onePoint_haveNull_df.drop(['81.jpg','115.jpg','117.jpg','127.jpg','32.jpg'],axis=0,inplace=True)"
      ],
      "metadata": {
        "id": "Q_nQTHykyiNE"
      },
      "execution_count": null,
      "outputs": []
    },
    {
      "cell_type": "code",
      "source": [
        "# onePoint_haveNull_df 확인\n",
        "onePoint_haveNull_df.info()"
      ],
      "metadata": {
        "id": "vll3dZTgjjBj"
      },
      "execution_count": null,
      "outputs": []
    },
    {
      "cell_type": "code",
      "source": [
        "# 2개의 좌표가 있고 null이 포함된 경혈점\n",
        "list_hnullc2 = ['거료', '관료', '구후', '동자료', '사백', '사죽공', '상영향', '승읍', '양백', '어요', '영향','정명', '지창', '찬죽', '화료']\n",
        "twoPoint_haveNull_df = pd.DataFrame(index=new_df.index)\n",
        "for column in list_hnullc2:\n",
        "  new_df[f'{column}_x1'] = 0\n",
        "  new_df[f'{column}_y1'] = 0\n",
        "  new_df[f'{column}_x2'] = 0\n",
        "  new_df[f'{column}_y2'] = 0\n",
        "\n",
        "# 빈리스트를 0,0 값으로 채우기\n",
        "  def fill_zero(x):\n",
        "    if not x:\n",
        "      x.append([0,0])\n",
        "      x.append([0,0])\n",
        "    elif len(x) == 1:\n",
        "      x.append([0,0])\n",
        "    else:\n",
        "      x\n",
        "    return x\n",
        "  new_df[f'{column}'] = new_df[f'{column}'].apply(lambda x:fill_zero(x))\n",
        "\n",
        "# # x,y 좌표 column 으로 저장\n",
        "  for i in range(86):\n",
        "    if new_df[f'{column}'][i][0][0] != 0 and new_df[f'{column}'][i][1][0] != 0:\n",
        "      \n",
        "      if new_df[f'{column}'][i][0][0] > new_df[f'{column}'][i][1][0]:\n",
        "        new_df[f'{column}_x1'][i] = new_df[f'{column}'][i][1][0] # x1 = 오른쪽(작은쪽)\n",
        "        new_df[f'{column}_y1'][i] = new_df[f'{column}'][i][1][1]\n",
        "        new_df[f'{column}_x2'][i] = new_df[f'{column}'][i][0][0] # x2 = 왼쪽(큰쪽)\n",
        "        new_df[f'{column}_y2'][i] = new_df[f'{column}'][i][0][1]\n",
        "      else:\n",
        "        new_df[f'{column}_x1'][i] = new_df[f'{column}'][i][0][0]\n",
        "        new_df[f'{column}_y1'][i] = new_df[f'{column}'][i][0][1]\n",
        "        new_df[f'{column}_x2'][i] = new_df[f'{column}'][i][1][0]\n",
        "        new_df[f'{column}_y2'][i] = new_df[f'{column}'][i][1][1]\n",
        "    \n",
        "    elif new_df[f'{column}'][i][0][0] == 0 and  new_df[f'{column}'][i][1][0] == 0 :\n",
        "      new_df[f'{column}_x1'][i] = new_df[f'{column}'][i][0][0]\n",
        "      new_df[f'{column}_y1'][i] = new_df[f'{column}'][i][0][1]\n",
        "      new_df[f'{column}_x2'][i] = new_df[f'{column}'][i][1][0]\n",
        "      new_df[f'{column}_y2'][i] = new_df[f'{column}'][i][1][1]\n",
        "\n",
        "    else:\n",
        "      if column in ['사죽공','관료','양백','어요','승읍','사백','거료','지창','찬죽','정명','상영향','영향']:\n",
        "          if new_df[f'{column}'][i][0][0] >= 250:\n",
        "                new_df[f'{column}_x1'][i] = new_df[f'{column}'][i][0][0] # 왼쪽\n",
        "                new_df[f'{column}_y1'][i] = new_df[f'{column}'][i][0][1]\n",
        "                new_df[f'{column}_x2'][i] = new_df[f'{column}'][i][1][0] # 오른쪽\n",
        "                new_df[f'{column}_y2'][i] = new_df[f'{column}'][i][1][1]\n",
        "          else:\n",
        "                new_df[f'{column}_x1'][i] = new_df[f'{column}'][i][1][0]\n",
        "                new_df[f'{column}_y1'][i] = new_df[f'{column}'][i][1][1]\n",
        "                new_df[f'{column}_x2'][i] = new_df[f'{column}'][i][0][0]\n",
        "                new_df[f'{column}_y2'][i] = new_df[f'{column}'][i][0][1]\n",
        "\n",
        "      elif column in ['화료']:\n",
        "          if new_df[f'{column}'][i][0][0] >= 255:\n",
        "                new_df[f'{column}_x1'][i] = new_df[f'{column}'][i][0][0] # 왼쪽\n",
        "                new_df[f'{column}_y1'][i] = new_df[f'{column}'][i][0][1]\n",
        "                new_df[f'{column}_x2'][i] = new_df[f'{column}'][i][1][0] # 오른쪽\n",
        "                new_df[f'{column}_y2'][i] = new_df[f'{column}'][i][1][1]\n",
        "          else:\n",
        "                new_df[f'{column}_x1'][i] = new_df[f'{column}'][i][1][0]\n",
        "                new_df[f'{column}_y1'][i] = new_df[f'{column}'][i][1][1]\n",
        "                new_df[f'{column}_x2'][i] = new_df[f'{column}'][i][0][0]\n",
        "                new_df[f'{column}_y2'][i] = new_df[f'{column}'][i][0][1]\n",
        "\n",
        "\n",
        "  twoPoint_haveNull_df[f'{column}_x1'] = new_df[f'{column}_x1']\n",
        "  twoPoint_haveNull_df[f'{column}_y1'] = new_df[f'{column}_y1']\n",
        "  twoPoint_haveNull_df[f'{column}_x2'] = new_df[f'{column}_x2']\n",
        "  twoPoint_haveNull_df[f'{column}_y2'] = new_df[f'{column}_y2']\n",
        "  \n",
        "  new_df.drop([f'{column}',f'{column}_x1',f'{column}_y1',f'{column}_x2',f'{column}_y2'],axis=1,inplace=True)\n"
      ],
      "metadata": {
        "id": "yvMF5LQXnoBg"
      },
      "execution_count": null,
      "outputs": []
    },
    {
      "cell_type": "code",
      "source": [
        "twoPoint_haveNull_df.info()"
      ],
      "metadata": {
        "id": "YbkJQQiQ0cyH"
      },
      "execution_count": null,
      "outputs": []
    },
    {
      "cell_type": "code",
      "source": [
        "## 훈련을 방해할것 같은 ['81.jpg','115.jpg','117.jpg','127.jpg','32.jpg'] drop 하기\n",
        "twoPoint_haveNull_df.drop(['81.jpg','115.jpg','117.jpg','127.jpg','32.jpg'],axis=0,inplace=True)"
      ],
      "metadata": {
        "id": "P72VwZJNxr1R"
      },
      "execution_count": null,
      "outputs": []
    },
    {
      "cell_type": "code",
      "source": [
        "# twoPoint_haveNull_df 확인\n",
        "twoPoint_haveNull_df.info()"
      ],
      "metadata": {
        "id": "oOc_yFAqHg2W"
      },
      "execution_count": null,
      "outputs": []
    },
    {
      "cell_type": "code",
      "source": [
        "len(twoPoint_haveNull_df.index)"
      ],
      "metadata": {
        "id": "yimKqxx3ouwZ"
      },
      "execution_count": null,
      "outputs": []
    },
    {
      "cell_type": "code",
      "source": [
        "## 데이터 프레임 합치기\n",
        "All_df = pd.merge(twoPoint_haveNull_df,onePoint_haveNull_df,left_index=True,right_index=True,how='left')\n",
        "All_df = pd.merge(All_df,onePoint_noNull_df,left_index=True,right_index=True,how='left')\n",
        "All_df.head()"
      ],
      "metadata": {
        "id": "DqNKC-ZDvsB6"
      },
      "execution_count": null,
      "outputs": []
    },
    {
      "cell_type": "code",
      "source": [
        "# All_df 확인\n",
        "All_df.info()"
      ],
      "metadata": {
        "id": "QhRllMPnvtDp"
      },
      "execution_count": null,
      "outputs": []
    },
    {
      "cell_type": "code",
      "source": [
        "# 저장\n",
        "All_df.to_csv('/content/drive/MyDrive/deeplearning_study/data/acupoint_coordinate.csv',mode = 'w')"
      ],
      "metadata": {
        "id": "ZRxC54151BZs"
      },
      "execution_count": null,
      "outputs": []
    }
  ]
}